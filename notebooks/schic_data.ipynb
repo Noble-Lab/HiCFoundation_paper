{
 "cells": [
  {
   "cell_type": "markdown",
   "metadata": {},
   "source": [
    "#  Downloading data for sc-hic resolution enhancement task \n",
    "\n",
    "This notebook illustrates how to download the data files from GEO database."
   ]
  },
  {
   "cell_type": "code",
   "execution_count": null,
   "metadata": {},
   "outputs": [],
   "source": [
    "import os\n",
    "import urllib.request\n",
    "import tarfile\n",
    "import shutil\n",
    "# step 1: Specify GEO accession number\n",
    "geo_accession = \"GSE223917\"\n",
    "dataset_mapping = {\n",
    "    \"GSE223917\": \"HiRES\",\n",
    "    \"GSE162511\": \"Tan2021\",\n",
    "    \"GSE238001\": \"GAGE_seq\"\n",
    "\n",
    "}\n",
    "# step 2: Specify save_dir and Download the tar file\n",
    "output_dir = f\"schic_data/{dataset_mapping[geo_accession]}\"\n",
    "os.makedirs(output_dir, exist_ok=True)\n",
    "prefix = geo_accession[:-3]+\"nnn\"\n",
    "command = f\"wget -O {output_dir}/{geo_accession}_RAW.tar ftp://ftp.ncbi.nlm.nih.gov/geo/series/{prefix}/{geo_accession}/suppl/{geo_accession}_RAW.tar\"\n",
    "os.system(command)\n"
   ]
  }
 ],
 "metadata": {
  "kernelspec": {
   "display_name": "higashi",
   "language": "python",
   "name": "higashi"
  },
  "language_info": {
   "codemirror_mode": {
    "name": "ipython",
    "version": 3
   },
   "file_extension": ".py",
   "mimetype": "text/x-python",
   "name": "python",
   "nbconvert_exporter": "python",
   "pygments_lexer": "ipython3",
   "version": "3.11.5"
  }
 },
 "nbformat": 4,
 "nbformat_minor": 2
}
