{
 "cells": [
  {
   "cell_type": "markdown",
   "metadata": {},
   "source": [
    "#  Downloading data for epigenomic assay profiling task \n",
    "\n",
    "This notebook illustrates how to download the data files from ENCODE and 4DN database."
   ]
  },
  {
   "cell_type": "code",
   "execution_count": 2,
   "metadata": {},
   "outputs": [],
   "source": [
    "# step 1: get the downloading link\n",
    "import pandas as pd\n",
    "xls = pd.ExcelFile('../data/Supplementary_Table_hicfoundation.xlsx')\n",
    "\n",
    "# Now you can list all sheets in the file\n",
    "# xls.sheet_names\n",
    "df = pd.read_excel('../data/Supplementary_Table_hicfoundation.xlsx', sheet_name=\"Sup11\",header=1)\n",
    "hic_list=df['Hi-C'].tolist()\n",
    "epi_name_list=[\"DnaseI\",\"CTCF\", 'H3K27ac', 'H3K27me3', 'H3K4me3','ATAC-seq']\n",
    "epi_list=[]\n",
    "for epi_name in epi_name_list:\n",
    "    epi_list+=df[epi_name].tolist()\n"
   ]
  },
  {
   "cell_type": "code",
   "execution_count": 3,
   "metadata": {},
   "outputs": [
    {
     "name": "stdout",
     "output_type": "stream",
     "text": [
      "Please check the 4DN website: https://data.4dnucleome.org and encode website: https://www.encodeproject.org/ for the data downloading\n",
      "The Hi-C data accession id is  ['4DNES3JX38V5', '4DNFITUOMFUQ', '4DNES2M5JIGV']\n",
      "The  DnaseI  data accession id is  ['ENCSR000EMT', 'ENCSR000EOT', 'ENCSR000EMU']\n",
      "The  CTCF  data accession id is  ['ENCSR000DRZ', 'ENCSR000DWE', 'ENCSR000AMF']\n",
      "The  H3K27ac  data accession id is  ['ENCSR000AKC', 'ENCSR000AKP', 'ENCSR000ANP']\n",
      "The  H3K27me3  data accession id is  ['ENCSR000DRX', 'ENCSR000AKQ', 'ENCSR216OGD']\n",
      "The  H3K4me3  data accession id is  ['ENCSR000DRY', 'ENCSR000DWD', 'ENCSR019SQX']\n",
      "The  ATAC-seq  data accession id is  ['ENCSR095QNB', 'ENCSR483RKN', '4DNESLMCRW2C']\n",
      "The Hi-C data should in .hic format!\n",
      "The epi data should in .bigWig format!\n"
     ]
    }
   ],
   "source": [
    "# step 2: download the data\n",
    "\n",
    "print(\"Please check the 4DN website: https://data.4dnucleome.org and encode website: https://www.encodeproject.org/ for the data downloading\")\n",
    "print(\"The Hi-C data accession id is \",hic_list)\n",
    "for epi_name in epi_name_list:\n",
    "    current_list = df[epi_name].tolist()\n",
    "    print(\"The \",epi_name,\" data accession id is \",current_list)\n",
    "print(\"The Hi-C data should in .hic format!\")\n",
    "print(\"The epi data should in .bigWig format!\")"
   ]
  }
 ],
 "metadata": {
  "kernelspec": {
   "display_name": "base",
   "language": "python",
   "name": "python3"
  },
  "language_info": {
   "codemirror_mode": {
    "name": "ipython",
    "version": 3
   },
   "file_extension": ".py",
   "mimetype": "text/x-python",
   "name": "python",
   "nbconvert_exporter": "python",
   "pygments_lexer": "ipython3",
   "version": "3.12.7"
  }
 },
 "nbformat": 4,
 "nbformat_minor": 2
}
