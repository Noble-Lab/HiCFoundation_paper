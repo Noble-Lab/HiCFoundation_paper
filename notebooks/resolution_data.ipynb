{
 "cells": [
  {
   "cell_type": "markdown",
   "metadata": {},
   "source": [
    "#  Downloading data for resolution enhancement task \n",
    "\n",
    "This notebook illustrates how to download the data files from ENCODE and 4DN database."
   ]
  },
  {
   "cell_type": "code",
   "execution_count": null,
   "metadata": {},
   "outputs": [],
   "source": [
    "#add configuration for the notebook to read excel files\n",
    "!pip install openpyxl"
   ]
  },
  {
   "cell_type": "code",
   "execution_count": 2,
   "metadata": {},
   "outputs": [],
   "source": [
    "# step 1: get the downloading link\n",
    "import pandas as pd\n",
    "xls = pd.ExcelFile('../data/Supplementary_Table_hicfoundation.xlsx')\n",
    "\n",
    "# Now you can list all sheets in the file\n",
    "# xls.sheet_names\n",
    "df = pd.read_excel('../data/Supplementary_Table_hicfoundation.xlsx', sheet_name=\"Sup7\",header=1)\n",
    "hic_list = df['Hi-C Accession']"
   ]
  },
  {
   "cell_type": "code",
   "execution_count": null,
   "metadata": {},
   "outputs": [],
   "source": [
    "# step 2: download the hic data\n",
    "import os \n",
    "def download_encode(output_dir,url):\n",
    "    root_path =  os.getcwd()\n",
    "    os.chdir(output_dir)\n",
    "    os.system(\"wget %s\"%url)\n",
    "    os.chdir(root_path)\n",
    "def download_4dn(output_dir,url,user_key):\n",
    "    root_path =  os.getcwd()\n",
    "    os.chdir(output_dir)\n",
    "    \n",
    "    os.system(f\"curl -O -L --user {user_key} {url}\")\n",
    "    os.chdir(root_path)\n",
    "def download_hic(dataset_list,output_dir,user_key):\n",
    "    for dataset in dataset_list:\n",
    "        if \"4DN\" in dataset:\n",
    "            url = f\"https://data.4dnucleome.org/files-processed/{dataset}/@@download/{dataset}.hic\"\n",
    "            download_4dn(output_dir,url,user_key=user_key)\n",
    "        elif \"ENCSR\" in dataset:\n",
    "            url=f\"https://www.encodeproject.org/files/{dataset}/@@download/{dataset}.hic\"\n",
    "            download_encode(output_dir,url)\n",
    "        else:\n",
    "            print(\"Unknown dataset %s\"%dataset)\n",
    "\n",
    "\n",
    "#specify output direcotry\n",
    "output_dir=\"hic_data\"#change it to your own directory\n",
    "os.makedirs(output_dir,exist_ok=True)\n",
    "#download hic data\n",
    "user_key = \"USER:PASSWORD\"\n",
    "#Please create the accession key in your profile in https://data.4dnucleome.org.\n",
    "#this should be configured through https://data.4dnucleome.org/help/user-guide/downloading-files\n",
    "\n",
    "if user_key==\"USER:PASSWORD\":\n",
    "    print(\"Please configure the user key for 4DN\")\n",
    "    print(\"Detailed instruction is in https://data.4dnucleome.org/help/user-guide/downloading-files\")\n",
    "    print(\"You can add the key in your profile in https://data.4dnucleome.org.\")\n",
    "    exit()\n",
    "download_hic(hic_list,output_dir,user_key)\n",
    "\n",
    "\n"
   ]
  }
 ],
 "metadata": {
  "kernelspec": {
   "display_name": "base",
   "language": "python",
   "name": "python3"
  },
  "language_info": {
   "codemirror_mode": {
    "name": "ipython",
    "version": 3
   },
   "file_extension": ".py",
   "mimetype": "text/x-python",
   "name": "python",
   "nbconvert_exporter": "python",
   "pygments_lexer": "ipython3",
   "version": "3.12.7"
  }
 },
 "nbformat": 4,
 "nbformat_minor": 2
}
